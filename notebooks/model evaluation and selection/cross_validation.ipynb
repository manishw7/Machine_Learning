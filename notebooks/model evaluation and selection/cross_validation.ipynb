{
 "cells": [
  {
   "cell_type": "code",
   "execution_count": 1,
   "id": "e9c035e2",
   "metadata": {},
   "outputs": [],
   "source": [
    "import numpy as np\n",
    "import pandas as pd\n",
    "from sklearn.datasets import fetch_openml\n",
    "from sklearn.linear_model import LinearRegression\n",
    "from sklearn.model_selection import train_test_split, KFold, LeaveOneOut, cross_val_score\n",
    "from sklearn.metrics import mean_squared_error\n",
    "from sklearn.preprocessing import StandardScaler"
   ]
  },
  {
   "cell_type": "code",
   "execution_count": 2,
   "id": "40333b08",
   "metadata": {},
   "outputs": [],
   "source": [
    "# Load the dataset\n",
    "boston = fetch_openml(name=\"boston\", version=1, as_frame=True)\n",
    "X = boston.data\n",
    "y = boston.target"
   ]
  },
  {
   "cell_type": "code",
   "execution_count": 3,
   "id": "d3103c9c",
   "metadata": {},
   "outputs": [],
   "source": [
    "# Standardize features\n",
    "scaler = StandardScaler()\n",
    "X_scaled = scaler.fit_transform(X)"
   ]
  },
  {
   "cell_type": "code",
   "execution_count": 4,
   "id": "92f00f3d",
   "metadata": {},
   "outputs": [],
   "source": [
    "# Initialize model\n",
    "model = LinearRegression()"
   ]
  },
  {
   "cell_type": "code",
   "execution_count": 5,
   "id": "dcd6f45c",
   "metadata": {},
   "outputs": [
    {
     "name": "stdout",
     "output_type": "stream",
     "text": [
      "Hold-Out MSE: 24.2911\n"
     ]
    }
   ],
   "source": [
    "#Hold-Out Validation\n",
    "X_train, X_test, y_train, y_test = train_test_split(X_scaled, y, test_size=0.2, random_state=42)\n",
    "model.fit(X_train, y_train)\n",
    "y_pred = model.predict(X_test)\n",
    "holdout_mse = mean_squared_error(y_test, y_pred)\n",
    "print(f\"Hold-Out MSE: {holdout_mse:.4f}\")"
   ]
  },
  {
   "cell_type": "code",
   "execution_count": 6,
   "id": "11e04f96",
   "metadata": {},
   "outputs": [
    {
     "name": "stdout",
     "output_type": "stream",
     "text": [
      "10-Fold CV MSE: 23.3642\n"
     ]
    }
   ],
   "source": [
    "#K-Fold Cross Validation\n",
    "kfold = KFold(n_splits=10, shuffle=True, random_state=42)\n",
    "kfold_scores = cross_val_score(model, X_scaled, y, cv=kfold, scoring='neg_mean_squared_error')\n",
    "kfold_mse = -np.mean(kfold_scores)\n",
    "print(f\"10-Fold CV MSE: {kfold_mse:.4f}\")"
   ]
  },
  {
   "cell_type": "code",
   "execution_count": 7,
   "id": "10ee2595",
   "metadata": {},
   "outputs": [
    {
     "name": "stdout",
     "output_type": "stream",
     "text": [
      "LOOCV MSE: 23.7257\n"
     ]
    }
   ],
   "source": [
    "#Leave-One-Out Cross Validation (LOOCV)\n",
    "loocv = LeaveOneOut()\n",
    "loocv_scores = cross_val_score(model, X_scaled, y, cv=loocv, scoring='neg_mean_squared_error')\n",
    "loocv_mse = -np.mean(loocv_scores)\n",
    "print(f\"LOOCV MSE: {loocv_mse:.4f}\")"
   ]
  },
  {
   "cell_type": "code",
   "execution_count": 2,
   "id": "9b5258f5",
   "metadata": {},
   "outputs": [
    {
     "name": "stdout",
     "output_type": "stream",
     "text": [
      "\n",
      "Fold 1\n",
      "Train size: 120, Test size: 30\n",
      "Accuracy: 1.00\n",
      "\n",
      "Fold 2\n",
      "Train size: 120, Test size: 30\n",
      "Accuracy: 0.97\n",
      "\n",
      "Fold 3\n",
      "Train size: 120, Test size: 30\n",
      "Accuracy: 0.93\n",
      "\n",
      "Fold 4\n",
      "Train size: 120, Test size: 30\n",
      "Accuracy: 1.00\n",
      "\n",
      "Fold 5\n",
      "Train size: 120, Test size: 30\n",
      "Accuracy: 0.93\n",
      "\n",
      "📊 Mean Accuracy over 5 folds: 0.9667\n"
     ]
    }
   ],
   "source": [
    "from sklearn.datasets import load_iris\n",
    "from sklearn.model_selection import StratifiedKFold\n",
    "from sklearn.linear_model import LogisticRegression\n",
    "from sklearn.metrics import accuracy_score\n",
    "import numpy as np\n",
    "\n",
    "# Load the Iris dataset\n",
    "iris = load_iris()\n",
    "X = iris.data\n",
    "y = iris.target\n",
    "\n",
    "# Define the Stratified K-Fold cross-validator\n",
    "skf = StratifiedKFold(n_splits=5, shuffle=True, random_state=42)\n",
    "\n",
    "accuracies = []\n",
    "fold = 1\n",
    "\n",
    "for train_index, test_index in skf.split(X, y):\n",
    "    print(f\"\\nFold {fold}\")\n",
    "    \n",
    "    # Split the data\n",
    "    X_train, X_test = X[train_index], X[test_index]\n",
    "    y_train, y_test = y[train_index], y[test_index]\n",
    "    \n",
    "    # Train a model\n",
    "    model = LogisticRegression(max_iter=200)\n",
    "    model.fit(X_train, y_train)\n",
    "    \n",
    "    # Predict and evaluate\n",
    "    y_pred = model.predict(X_test)\n",
    "    accuracy = accuracy_score(y_test, y_pred)\n",
    "    accuracies.append(accuracy)\n",
    "    \n",
    "    print(f\"Train size: {len(train_index)}, Test size: {len(test_index)}\")\n",
    "    print(f\"Accuracy: {accuracy:.2f}\")\n",
    "    \n",
    "    fold += 1\n",
    "\n",
    "# Mean accuracy\n",
    "mean_accuracy = np.mean(accuracies)\n",
    "print(f\"\\n📊 Mean Accuracy over {skf.n_splits} folds: {mean_accuracy:.4f}\")\n"
   ]
  }
 ],
 "metadata": {
  "kernelspec": {
   "display_name": "base",
   "language": "python",
   "name": "python3"
  },
  "language_info": {
   "codemirror_mode": {
    "name": "ipython",
    "version": 3
   },
   "file_extension": ".py",
   "mimetype": "text/x-python",
   "name": "python",
   "nbconvert_exporter": "python",
   "pygments_lexer": "ipython3",
   "version": "3.12.4"
  }
 },
 "nbformat": 4,
 "nbformat_minor": 5
}
