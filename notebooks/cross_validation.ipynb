{
 "cells": [
  {
   "cell_type": "code",
   "execution_count": 9,
   "id": "e9c035e2",
   "metadata": {},
   "outputs": [],
   "source": [
    "import numpy as np\n",
    "import pandas as pd\n",
    "from sklearn.datasets import fetch_openml\n",
    "from sklearn.linear_model import LinearRegression\n",
    "from sklearn.model_selection import train_test_split, KFold, LeaveOneOut, cross_val_score\n",
    "from sklearn.metrics import mean_squared_error\n",
    "from sklearn.preprocessing import StandardScaler"
   ]
  },
  {
   "cell_type": "code",
   "execution_count": 10,
   "id": "40333b08",
   "metadata": {},
   "outputs": [],
   "source": [
    "# Load the dataset\n",
    "boston = fetch_openml(name=\"boston\", version=1, as_frame=True)\n",
    "X = boston.data\n",
    "y = boston.target"
   ]
  },
  {
   "cell_type": "code",
   "execution_count": 11,
   "id": "d3103c9c",
   "metadata": {},
   "outputs": [],
   "source": [
    "# Standardize features\n",
    "scaler = StandardScaler()\n",
    "X_scaled = scaler.fit_transform(X)"
   ]
  },
  {
   "cell_type": "code",
   "execution_count": 12,
   "id": "92f00f3d",
   "metadata": {},
   "outputs": [],
   "source": [
    "# Initialize model\n",
    "model = LinearRegression()"
   ]
  },
  {
   "cell_type": "code",
   "execution_count": 13,
   "id": "dcd6f45c",
   "metadata": {},
   "outputs": [
    {
     "name": "stdout",
     "output_type": "stream",
     "text": [
      "Hold-Out MSE: 24.2911\n"
     ]
    }
   ],
   "source": [
    "#Hold-Out Validation\n",
    "X_train, X_test, y_train, y_test = train_test_split(X_scaled, y, test_size=0.2, random_state=42)\n",
    "model.fit(X_train, y_train)\n",
    "y_pred = model.predict(X_test)\n",
    "holdout_mse = mean_squared_error(y_test, y_pred)\n",
    "print(f\"Hold-Out MSE: {holdout_mse:.4f}\")"
   ]
  },
  {
   "cell_type": "code",
   "execution_count": 14,
   "id": "11e04f96",
   "metadata": {},
   "outputs": [
    {
     "name": "stdout",
     "output_type": "stream",
     "text": [
      "10-Fold CV MSE: 23.3642\n"
     ]
    }
   ],
   "source": [
    "#K-Fold Cross Validation\n",
    "kfold = KFold(n_splits=10, shuffle=True, random_state=42)\n",
    "kfold_scores = cross_val_score(model, X_scaled, y, cv=kfold, scoring='neg_mean_squared_error')\n",
    "kfold_mse = -np.mean(kfold_scores)\n",
    "print(f\"10-Fold CV MSE: {kfold_mse:.4f}\")"
   ]
  },
  {
   "cell_type": "code",
   "execution_count": 15,
   "id": "10ee2595",
   "metadata": {},
   "outputs": [
    {
     "name": "stdout",
     "output_type": "stream",
     "text": [
      "LOOCV MSE: 23.7257\n"
     ]
    }
   ],
   "source": [
    "#Leave-One-Out Cross Validation (LOOCV)\n",
    "loocv = LeaveOneOut()\n",
    "loocv_scores = cross_val_score(model, X_scaled, y, cv=loocv, scoring='neg_mean_squared_error')\n",
    "loocv_mse = -np.mean(loocv_scores)\n",
    "print(f\"LOOCV MSE: {loocv_mse:.4f}\")"
   ]
  }
 ],
 "metadata": {
  "kernelspec": {
   "display_name": "base",
   "language": "python",
   "name": "python3"
  },
  "language_info": {
   "codemirror_mode": {
    "name": "ipython",
    "version": 3
   },
   "file_extension": ".py",
   "mimetype": "text/x-python",
   "name": "python",
   "nbconvert_exporter": "python",
   "pygments_lexer": "ipython3",
   "version": "3.12.4"
  }
 },
 "nbformat": 4,
 "nbformat_minor": 5
}
